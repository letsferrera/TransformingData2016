{
 "cells": [
  {
   "cell_type": "code",
   "execution_count": 1,
   "metadata": {
    "collapsed": false
   },
   "outputs": [
    {
     "name": "stdout",
     "output_type": "stream",
     "text": [
      "AuthorizationURL: https://api.instagram.com/oauth/authorize/?client_id=0e8a3c42d9254695ac69a5dca9877414&response_type=code&redirect_uri=https://letsferrera.temboolive.com/callback/instagram&state=d4d7a6c1-0f59-4dba-9026-caa85057e917\n",
      "CallbackID: letsferrera/d4d7a6c1-0f59-4dba-9026-caa85057e917\n"
     ]
    }
   ],
   "source": [
    "from temboo.Library.Instagram.OAuth import InitializeOAuth\n",
    "from temboo.core.session import TembooSession\n",
    "\n",
    "# Create a session with your Temboo account details\n",
    "session = TembooSession(\"letsferrera\", \"myFirstApp\", \"olOI2Xz358RVcIqnlZVApS9YMbh6SVpz\")\n",
    "\n",
    "# Instantiate the Choreo\n",
    "initializeOAuthChoreo = InitializeOAuth(session)\n",
    "\n",
    "# Get an InputSet object for the Choreo\n",
    "initializeOAuthInputs = initializeOAuthChoreo.new_input_set()\n",
    "\n",
    "# Set the Choreo inputs\n",
    "initializeOAuthInputs.set_ClientID(\"0e8a3c42d9254695ac69a5dca9877414\")\n",
    "\n",
    "# Execute the Choreo\n",
    "initializeOAuthResults = initializeOAuthChoreo.execute_with_results(initializeOAuthInputs)\n",
    "\n",
    "# Print the Choreo outputs\n",
    "print(\"AuthorizationURL: \" + initializeOAuthResults.get_AuthorizationURL())\n",
    "print(\"CallbackID: \" + initializeOAuthResults.get_CallbackID())"
   ]
  },
  {
   "cell_type": "code",
   "execution_count": 4,
   "metadata": {
    "collapsed": false
   },
   "outputs": [
    {
     "ename": "TembooHTTPError",
     "evalue": "('Bad HTTP response code. (500)', 500, 'Server Error', '{\"output\":{\"Response\":\"\",\"AccessToken\":\"\",\"ErrorMessage\":\"\"},\"execution\":{\"lasterror\":\"A Step Error has occurred: \\\\\"The Choreo was not able to retrieve the authorization callback data within the specified timeout. Verify that the user has clicked \\\\\"allow\\\\\" at the authorization URL returned by the InitializeOAuth Choreo.\\\\\".  The error occurred in the Stop (Callback error) step.\",\"errortime\":\"1456351966924\",\"endtime\":\"1456351966997\",\"id\":\"11049278\",\"starttime\":\"1456351945824\",\"status\":\"ERROR\"},\"truncatedItems\":[]}')",
     "output_type": "error",
     "traceback": [
      "\u001b[0;31m---------------------------------------------------------------------------\u001b[0m",
      "\u001b[0;31mTembooHTTPError\u001b[0m                           Traceback (most recent call last)",
      "\u001b[0;32m<ipython-input-4-c8e44a7914b7>\u001b[0m in \u001b[0;36m<module>\u001b[0;34m()\u001b[0m\n\u001b[1;32m     17\u001b[0m \u001b[0;34m\u001b[0m\u001b[0m\n\u001b[1;32m     18\u001b[0m \u001b[0;31m# Execute the Choreo\u001b[0m\u001b[0;34m\u001b[0m\u001b[0;34m\u001b[0m\u001b[0m\n\u001b[0;32m---> 19\u001b[0;31m \u001b[0mfinalizeOAuthResults\u001b[0m \u001b[0;34m=\u001b[0m \u001b[0mfinalizeOAuthChoreo\u001b[0m\u001b[0;34m.\u001b[0m\u001b[0mexecute_with_results\u001b[0m\u001b[0;34m(\u001b[0m\u001b[0mfinalizeOAuthInputs\u001b[0m\u001b[0;34m)\u001b[0m\u001b[0;34m\u001b[0m\u001b[0m\n\u001b[0m\u001b[1;32m     20\u001b[0m \u001b[0;34m\u001b[0m\u001b[0m\n\u001b[1;32m     21\u001b[0m \u001b[0;31m# Print the Choreo outputs\u001b[0m\u001b[0;34m\u001b[0m\u001b[0;34m\u001b[0m\u001b[0m\n",
      "\u001b[0;32m/Users/letsferrera/Documents/Masters/2016Spring/Transforming Data/Gits/MY_TransformingData2016/Homework/temboo/core/choreography.py\u001b[0m in \u001b[0;36mexecute_with_results\u001b[0;34m(self, choreo_inputs)\u001b[0m\n\u001b[1;32m     72\u001b[0m         \u001b[0;31m# Append JS client version string if present\u001b[0m\u001b[0;34m\u001b[0m\u001b[0;34m\u001b[0m\u001b[0m\n\u001b[1;32m     73\u001b[0m         \u001b[0mparams\u001b[0m \u001b[0;34m=\u001b[0m \u001b[0;34m{\u001b[0m\u001b[0;34m\"source_id\"\u001b[0m\u001b[0;34m:\u001b[0m \u001b[0mTembooSession\u001b[0m\u001b[0;34m.\u001b[0m\u001b[0mSOURCE_ID\u001b[0m \u001b[0;34m+\u001b[0m \u001b[0;34m(\u001b[0m\u001b[0;34m(\u001b[0m\u001b[0;34m'-'\u001b[0m \u001b[0;34m+\u001b[0m \u001b[0mself\u001b[0m\u001b[0;34m.\u001b[0m\u001b[0m_jsClientVersion\u001b[0m\u001b[0;34m)\u001b[0m \u001b[0;32mif\u001b[0m \u001b[0mself\u001b[0m\u001b[0;34m.\u001b[0m\u001b[0m_jsClientVersion\u001b[0m \u001b[0;32melse\u001b[0m \u001b[0;34m''\u001b[0m\u001b[0;34m)\u001b[0m\u001b[0;34m}\u001b[0m\u001b[0;34m\u001b[0m\u001b[0m\n\u001b[0;32m---> 74\u001b[0;31m         \u001b[0;32mreturn\u001b[0m \u001b[0mself\u001b[0m\u001b[0;34m.\u001b[0m\u001b[0m_make_result_set\u001b[0m\u001b[0;34m(\u001b[0m\u001b[0mself\u001b[0m\u001b[0;34m.\u001b[0m\u001b[0m_temboo_session\u001b[0m\u001b[0;34m.\u001b[0m\u001b[0mpost\u001b[0m\u001b[0;34m(\u001b[0m\u001b[0mself\u001b[0m\u001b[0;34m.\u001b[0m\u001b[0mget_session_path\u001b[0m\u001b[0;34m(\u001b[0m\u001b[0;34m)\u001b[0m\u001b[0;34m,\u001b[0m \u001b[0mbody\u001b[0m\u001b[0;34m,\u001b[0m \u001b[0mparams\u001b[0m\u001b[0;34m)\u001b[0m\u001b[0;34m,\u001b[0m \u001b[0mself\u001b[0m\u001b[0;34m.\u001b[0m\u001b[0m_temboo_path\u001b[0m\u001b[0;34m)\u001b[0m\u001b[0;34m\u001b[0m\u001b[0m\n\u001b[0m\u001b[1;32m     75\u001b[0m \u001b[0;34m\u001b[0m\u001b[0m\n\u001b[1;32m     76\u001b[0m     \u001b[0;32mdef\u001b[0m \u001b[0m_make_result_set\u001b[0m\u001b[0;34m(\u001b[0m\u001b[0mself\u001b[0m\u001b[0;34m,\u001b[0m \u001b[0mresult\u001b[0m\u001b[0;34m,\u001b[0m \u001b[0mpath\u001b[0m\u001b[0;34m)\u001b[0m\u001b[0;34m:\u001b[0m\u001b[0;34m\u001b[0m\u001b[0m\n",
      "\u001b[0;32m/Users/letsferrera/Documents/Masters/2016Spring/Transforming Data/Gits/MY_TransformingData2016/Homework/temboo/core/session.py\u001b[0m in \u001b[0;36mpost\u001b[0;34m(self, path, body, parameters)\u001b[0m\n\u001b[1;32m    183\u001b[0m \u001b[0;34m\u001b[0m\u001b[0m\n\u001b[1;32m    184\u001b[0m         \"\"\"\n\u001b[0;32m--> 185\u001b[0;31m         \u001b[0;32mreturn\u001b[0m \u001b[0mself\u001b[0m\u001b[0;34m.\u001b[0m\u001b[0m_do_request\u001b[0m\u001b[0;34m(\u001b[0m\u001b[0;34m'POST'\u001b[0m\u001b[0;34m,\u001b[0m \u001b[0mpath\u001b[0m\u001b[0;34m,\u001b[0m \u001b[0mbody\u001b[0m\u001b[0;34m,\u001b[0m \u001b[0mparameters\u001b[0m\u001b[0;34m)\u001b[0m\u001b[0;34m\u001b[0m\u001b[0m\n\u001b[0m\u001b[1;32m    186\u001b[0m \u001b[0;34m\u001b[0m\u001b[0m\n\u001b[1;32m    187\u001b[0m \u001b[0;34m\u001b[0m\u001b[0m\n",
      "\u001b[0;32m/Users/letsferrera/Documents/Masters/2016Spring/Transforming Data/Gits/MY_TransformingData2016/Homework/temboo/core/session.py\u001b[0m in \u001b[0;36m_do_request\u001b[0;34m(self, http_method, path, body, parameters)\u001b[0m\n\u001b[1;32m    140\u001b[0m             \u001b[0;31m#Any response < 200 or >= 300 means an error.\u001b[0m\u001b[0;34m\u001b[0m\u001b[0;34m\u001b[0m\u001b[0m\n\u001b[1;32m    141\u001b[0m             \u001b[0mmsg\u001b[0m \u001b[0;34m=\u001b[0m \u001b[0;34m'Bad HTTP response code. ({0})'\u001b[0m\u001b[0;34m.\u001b[0m\u001b[0mformat\u001b[0m\u001b[0;34m(\u001b[0m\u001b[0mresponse\u001b[0m\u001b[0;34m.\u001b[0m\u001b[0mstatus\u001b[0m\u001b[0;34m)\u001b[0m\u001b[0;34m\u001b[0m\u001b[0m\n\u001b[0;32m--> 142\u001b[0;31m             \u001b[0;32mraise\u001b[0m \u001b[0mTembooHTTPError\u001b[0m\u001b[0;34m(\u001b[0m\u001b[0mmsg\u001b[0m\u001b[0;34m,\u001b[0m \u001b[0mresponse\u001b[0m\u001b[0;34m.\u001b[0m\u001b[0mstatus\u001b[0m\u001b[0;34m,\u001b[0m \u001b[0mresponse\u001b[0m\u001b[0;34m.\u001b[0m\u001b[0mreason\u001b[0m\u001b[0;34m,\u001b[0m \u001b[0mbody\u001b[0m\u001b[0;34m)\u001b[0m\u001b[0;34m\u001b[0m\u001b[0m\n\u001b[0m\u001b[1;32m    143\u001b[0m \u001b[0;34m\u001b[0m\u001b[0m\n\u001b[1;32m    144\u001b[0m         \u001b[0;32mfinally\u001b[0m\u001b[0;34m:\u001b[0m\u001b[0;34m\u001b[0m\u001b[0m\n",
      "\u001b[0;31mTembooHTTPError\u001b[0m: ('Bad HTTP response code. (500)', 500, 'Server Error', '{\"output\":{\"Response\":\"\",\"AccessToken\":\"\",\"ErrorMessage\":\"\"},\"execution\":{\"lasterror\":\"A Step Error has occurred: \\\\\"The Choreo was not able to retrieve the authorization callback data within the specified timeout. Verify that the user has clicked \\\\\"allow\\\\\" at the authorization URL returned by the InitializeOAuth Choreo.\\\\\".  The error occurred in the Stop (Callback error) step.\",\"errortime\":\"1456351966924\",\"endtime\":\"1456351966997\",\"id\":\"11049278\",\"starttime\":\"1456351945824\",\"status\":\"ERROR\"},\"truncatedItems\":[]}')"
     ]
    }
   ],
   "source": [
    "from temboo.Library.Instagram.OAuth import FinalizeOAuth\n",
    "from temboo.core.session import TembooSession\n",
    "\n",
    "# Create a session with your Temboo account details\n",
    "session = TembooSession(\"letsferrera\", \"myFirstApp\", \"olOI2Xz358RVcIqnlZVApS9YMbh6SVpz\")\n",
    "\n",
    "# Instantiate the Choreo\n",
    "finalizeOAuthChoreo = FinalizeOAuth(session)\n",
    "\n",
    "# Get an InputSet object for the Choreo\n",
    "finalizeOAuthInputs = finalizeOAuthChoreo.new_input_set()\n",
    "\n",
    "# Set the Choreo inputs\n",
    "finalizeOAuthInputs.set_ClientSecret(\"6ef99bfab9804c5d8243648f735f367d\")\n",
    "finalizeOAuthInputs.set_CallbackID(\"letsferrera/4b102c9e-eff5-4e18-b54e-0d5ab9ec274a\")\n",
    "finalizeOAuthInputs.set_ClientID(\"0e8a3c42d9254695ac69a5dca9877414\")\n",
    "\n",
    "# Execute the Choreo\n",
    "finalizeOAuthResults = finalizeOAuthChoreo.execute_with_results(finalizeOAuthInputs)\n",
    "\n",
    "# Print the Choreo outputs\n",
    "print(\"AccessToken: \" + finalizeOAuthResults.get_AccessToken())\n",
    "print(\"ErrorMessage: \" + finalizeOAuthResults.get_ErrorMessage())\n",
    "print(\"Response: \" + finalizeOAuthResults.get_Response())"
   ]
  },
  {
   "cell_type": "code",
   "execution_count": 5,
   "metadata": {
    "collapsed": false
   },
   "outputs": [
    {
     "name": "stdout",
     "output_type": "stream",
     "text": [
      "AuthorizationURL: https://www.facebook.com/dialog/oauth?client_id=922077151175137&redirect_uri=https://letsferrera.temboolive.com/callback/a8786693-9bd5-44c9-9310-b6f349603bde&scope=public_profile\n",
      "CallbackID: letsferrera/a8786693-9bd5-44c9-9310-b6f349603bde\n"
     ]
    }
   ],
   "source": [
    "from temboo.Library.Facebook.OAuth import InitializeOAuth\n",
    "from temboo.core.session import TembooSession\n",
    "\n",
    "# Create a session with your Temboo account details\n",
    "session = TembooSession(\"letsferrera\", \"myFirstApp\", \"olOI2Xz358RVcIqnlZVApS9YMbh6SVpz\")\n",
    "\n",
    "# Instantiate the Choreo\n",
    "initializeOAuthChoreo = InitializeOAuth(session)\n",
    "\n",
    "# Get an InputSet object for the Choreo\n",
    "initializeOAuthInputs = initializeOAuthChoreo.new_input_set()\n",
    "\n",
    "# Set the Choreo inputs\n",
    "initializeOAuthInputs.set_AppID(\"922077151175137\")\n",
    "initializeOAuthInputs.set_Scope(\"public_profile\")\n",
    "\n",
    "# Execute the Choreo\n",
    "initializeOAuthResults = initializeOAuthChoreo.execute_with_results(initializeOAuthInputs)\n",
    "\n",
    "# Print the Choreo outputs\n",
    "print(\"AuthorizationURL: \" + initializeOAuthResults.get_AuthorizationURL())\n",
    "print(\"CallbackID: \" + initializeOAuthResults.get_CallbackID())"
   ]
  },
  {
   "cell_type": "code",
   "execution_count": 6,
   "metadata": {
    "collapsed": false
   },
   "outputs": [
    {
     "ename": "TembooHTTPError",
     "evalue": "('Bad HTTP response code. (500)', 500, 'Server Error', '{\"output\":{\"AccessToken\":\"\",\"Expires\":\"\",\"ErrorMessage\":\"\"},\"execution\":{\"lasterror\":\"A Step Error has occurred: \\\\\"The Choreo was not able to retrieve the authorization callback data within the specified timeout. Verify that the user has clicked \\\\\"allow\\\\\" at the authorization URL returned by the InitializeOAuth Choreo.\\\\\".  The error occurred in the Stop (Callback error) step.\",\"errortime\":\"1456352154763\",\"endtime\":\"1456352154833\",\"id\":\"11049643\",\"starttime\":\"1456352133684\",\"status\":\"ERROR\"},\"truncatedItems\":[]}')",
     "output_type": "error",
     "traceback": [
      "\u001b[0;31m---------------------------------------------------------------------------\u001b[0m",
      "\u001b[0;31mTembooHTTPError\u001b[0m                           Traceback (most recent call last)",
      "\u001b[0;32m<ipython-input-6-3b03d40bf90e>\u001b[0m in \u001b[0;36m<module>\u001b[0;34m()\u001b[0m\n\u001b[1;32m     17\u001b[0m \u001b[0;34m\u001b[0m\u001b[0m\n\u001b[1;32m     18\u001b[0m \u001b[0;31m# Execute the Choreo\u001b[0m\u001b[0;34m\u001b[0m\u001b[0;34m\u001b[0m\u001b[0m\n\u001b[0;32m---> 19\u001b[0;31m \u001b[0mfinalizeOAuthResults\u001b[0m \u001b[0;34m=\u001b[0m \u001b[0mfinalizeOAuthChoreo\u001b[0m\u001b[0;34m.\u001b[0m\u001b[0mexecute_with_results\u001b[0m\u001b[0;34m(\u001b[0m\u001b[0mfinalizeOAuthInputs\u001b[0m\u001b[0;34m)\u001b[0m\u001b[0;34m\u001b[0m\u001b[0m\n\u001b[0m\u001b[1;32m     20\u001b[0m \u001b[0;34m\u001b[0m\u001b[0m\n\u001b[1;32m     21\u001b[0m \u001b[0;31m# Print the Choreo outputs\u001b[0m\u001b[0;34m\u001b[0m\u001b[0;34m\u001b[0m\u001b[0m\n",
      "\u001b[0;32m/Users/letsferrera/Documents/Masters/2016Spring/Transforming Data/Gits/MY_TransformingData2016/Homework/temboo/core/choreography.py\u001b[0m in \u001b[0;36mexecute_with_results\u001b[0;34m(self, choreo_inputs)\u001b[0m\n\u001b[1;32m     72\u001b[0m         \u001b[0;31m# Append JS client version string if present\u001b[0m\u001b[0;34m\u001b[0m\u001b[0;34m\u001b[0m\u001b[0m\n\u001b[1;32m     73\u001b[0m         \u001b[0mparams\u001b[0m \u001b[0;34m=\u001b[0m \u001b[0;34m{\u001b[0m\u001b[0;34m\"source_id\"\u001b[0m\u001b[0;34m:\u001b[0m \u001b[0mTembooSession\u001b[0m\u001b[0;34m.\u001b[0m\u001b[0mSOURCE_ID\u001b[0m \u001b[0;34m+\u001b[0m \u001b[0;34m(\u001b[0m\u001b[0;34m(\u001b[0m\u001b[0;34m'-'\u001b[0m \u001b[0;34m+\u001b[0m \u001b[0mself\u001b[0m\u001b[0;34m.\u001b[0m\u001b[0m_jsClientVersion\u001b[0m\u001b[0;34m)\u001b[0m \u001b[0;32mif\u001b[0m \u001b[0mself\u001b[0m\u001b[0;34m.\u001b[0m\u001b[0m_jsClientVersion\u001b[0m \u001b[0;32melse\u001b[0m \u001b[0;34m''\u001b[0m\u001b[0;34m)\u001b[0m\u001b[0;34m}\u001b[0m\u001b[0;34m\u001b[0m\u001b[0m\n\u001b[0;32m---> 74\u001b[0;31m         \u001b[0;32mreturn\u001b[0m \u001b[0mself\u001b[0m\u001b[0;34m.\u001b[0m\u001b[0m_make_result_set\u001b[0m\u001b[0;34m(\u001b[0m\u001b[0mself\u001b[0m\u001b[0;34m.\u001b[0m\u001b[0m_temboo_session\u001b[0m\u001b[0;34m.\u001b[0m\u001b[0mpost\u001b[0m\u001b[0;34m(\u001b[0m\u001b[0mself\u001b[0m\u001b[0;34m.\u001b[0m\u001b[0mget_session_path\u001b[0m\u001b[0;34m(\u001b[0m\u001b[0;34m)\u001b[0m\u001b[0;34m,\u001b[0m \u001b[0mbody\u001b[0m\u001b[0;34m,\u001b[0m \u001b[0mparams\u001b[0m\u001b[0;34m)\u001b[0m\u001b[0;34m,\u001b[0m \u001b[0mself\u001b[0m\u001b[0;34m.\u001b[0m\u001b[0m_temboo_path\u001b[0m\u001b[0;34m)\u001b[0m\u001b[0;34m\u001b[0m\u001b[0m\n\u001b[0m\u001b[1;32m     75\u001b[0m \u001b[0;34m\u001b[0m\u001b[0m\n\u001b[1;32m     76\u001b[0m     \u001b[0;32mdef\u001b[0m \u001b[0m_make_result_set\u001b[0m\u001b[0;34m(\u001b[0m\u001b[0mself\u001b[0m\u001b[0;34m,\u001b[0m \u001b[0mresult\u001b[0m\u001b[0;34m,\u001b[0m \u001b[0mpath\u001b[0m\u001b[0;34m)\u001b[0m\u001b[0;34m:\u001b[0m\u001b[0;34m\u001b[0m\u001b[0m\n",
      "\u001b[0;32m/Users/letsferrera/Documents/Masters/2016Spring/Transforming Data/Gits/MY_TransformingData2016/Homework/temboo/core/session.py\u001b[0m in \u001b[0;36mpost\u001b[0;34m(self, path, body, parameters)\u001b[0m\n\u001b[1;32m    183\u001b[0m \u001b[0;34m\u001b[0m\u001b[0m\n\u001b[1;32m    184\u001b[0m         \"\"\"\n\u001b[0;32m--> 185\u001b[0;31m         \u001b[0;32mreturn\u001b[0m \u001b[0mself\u001b[0m\u001b[0;34m.\u001b[0m\u001b[0m_do_request\u001b[0m\u001b[0;34m(\u001b[0m\u001b[0;34m'POST'\u001b[0m\u001b[0;34m,\u001b[0m \u001b[0mpath\u001b[0m\u001b[0;34m,\u001b[0m \u001b[0mbody\u001b[0m\u001b[0;34m,\u001b[0m \u001b[0mparameters\u001b[0m\u001b[0;34m)\u001b[0m\u001b[0;34m\u001b[0m\u001b[0m\n\u001b[0m\u001b[1;32m    186\u001b[0m \u001b[0;34m\u001b[0m\u001b[0m\n\u001b[1;32m    187\u001b[0m \u001b[0;34m\u001b[0m\u001b[0m\n",
      "\u001b[0;32m/Users/letsferrera/Documents/Masters/2016Spring/Transforming Data/Gits/MY_TransformingData2016/Homework/temboo/core/session.py\u001b[0m in \u001b[0;36m_do_request\u001b[0;34m(self, http_method, path, body, parameters)\u001b[0m\n\u001b[1;32m    140\u001b[0m             \u001b[0;31m#Any response < 200 or >= 300 means an error.\u001b[0m\u001b[0;34m\u001b[0m\u001b[0;34m\u001b[0m\u001b[0m\n\u001b[1;32m    141\u001b[0m             \u001b[0mmsg\u001b[0m \u001b[0;34m=\u001b[0m \u001b[0;34m'Bad HTTP response code. ({0})'\u001b[0m\u001b[0;34m.\u001b[0m\u001b[0mformat\u001b[0m\u001b[0;34m(\u001b[0m\u001b[0mresponse\u001b[0m\u001b[0;34m.\u001b[0m\u001b[0mstatus\u001b[0m\u001b[0;34m)\u001b[0m\u001b[0;34m\u001b[0m\u001b[0m\n\u001b[0;32m--> 142\u001b[0;31m             \u001b[0;32mraise\u001b[0m \u001b[0mTembooHTTPError\u001b[0m\u001b[0;34m(\u001b[0m\u001b[0mmsg\u001b[0m\u001b[0;34m,\u001b[0m \u001b[0mresponse\u001b[0m\u001b[0;34m.\u001b[0m\u001b[0mstatus\u001b[0m\u001b[0;34m,\u001b[0m \u001b[0mresponse\u001b[0m\u001b[0;34m.\u001b[0m\u001b[0mreason\u001b[0m\u001b[0;34m,\u001b[0m \u001b[0mbody\u001b[0m\u001b[0;34m)\u001b[0m\u001b[0;34m\u001b[0m\u001b[0m\n\u001b[0m\u001b[1;32m    143\u001b[0m \u001b[0;34m\u001b[0m\u001b[0m\n\u001b[1;32m    144\u001b[0m         \u001b[0;32mfinally\u001b[0m\u001b[0;34m:\u001b[0m\u001b[0;34m\u001b[0m\u001b[0m\n",
      "\u001b[0;31mTembooHTTPError\u001b[0m: ('Bad HTTP response code. (500)', 500, 'Server Error', '{\"output\":{\"AccessToken\":\"\",\"Expires\":\"\",\"ErrorMessage\":\"\"},\"execution\":{\"lasterror\":\"A Step Error has occurred: \\\\\"The Choreo was not able to retrieve the authorization callback data within the specified timeout. Verify that the user has clicked \\\\\"allow\\\\\" at the authorization URL returned by the InitializeOAuth Choreo.\\\\\".  The error occurred in the Stop (Callback error) step.\",\"errortime\":\"1456352154763\",\"endtime\":\"1456352154833\",\"id\":\"11049643\",\"starttime\":\"1456352133684\",\"status\":\"ERROR\"},\"truncatedItems\":[]}')"
     ]
    }
   ],
   "source": [
    "from temboo.Library.Facebook.OAuth import FinalizeOAuth\n",
    "from temboo.core.session import TembooSession\n",
    "\n",
    "# Create a session with your Temboo account details\n",
    "session = TembooSession(\"letsferrera\", \"myFirstApp\", \"olOI2Xz358RVcIqnlZVApS9YMbh6SVpz\")\n",
    "\n",
    "# Instantiate the Choreo\n",
    "finalizeOAuthChoreo = FinalizeOAuth(session)\n",
    "\n",
    "# Get an InputSet object for the Choreo\n",
    "finalizeOAuthInputs = finalizeOAuthChoreo.new_input_set()\n",
    "\n",
    "# Set the Choreo inputs\n",
    "finalizeOAuthInputs.set_AppID(\"922077151175137\")\n",
    "finalizeOAuthInputs.set_CallbackID(\"letsferrera/eba4e1e0-59e5-4ec5-bc39-44ce57fe6e17\")\n",
    "finalizeOAuthInputs.set_AppSecret(\"2333580070795534eff1836635162f9e\")\n",
    "\n",
    "# Execute the Choreo\n",
    "finalizeOAuthResults = finalizeOAuthChoreo.execute_with_results(finalizeOAuthInputs)\n",
    "\n",
    "# Print the Choreo outputs\n",
    "print(\"AccessToken: \" + finalizeOAuthResults.get_AccessToken())\n",
    "print(\"ErrorMessage: \" + finalizeOAuthResults.get_ErrorMessage())\n",
    "print(\"Expires: \" + finalizeOAuthResults.get_Expires())"
   ]
  },
  {
   "cell_type": "code",
   "execution_count": null,
   "metadata": {
    "collapsed": true
   },
   "outputs": [],
   "source": []
  },
  {
   "cell_type": "code",
   "execution_count": 4,
   "metadata": {
    "collapsed": false
   },
   "outputs": [
    {
     "ename": "TembooHTTPError",
     "evalue": "('Bad HTTP response code. (500)', 500, 'Server Error', '{\"output\":{\"RefreshToken\":\"\",\"AccessToken\":\"\",\"Expires\":\"\",\"ErrorMessage\":\"\"},\"execution\":{\"lasterror\":\"A Step Error has occurred: \\\\\"The Choreo was not able to retrieve the authorization callback data within the specified timeout. Verify that the user has clicked \\\\\"allow\\\\\" at the authorization URL returned by the InitializeOAuth Choreo.\\\\\".  The error occurred in the Stop (Callback error) step.\",\"errortime\":\"1456269758732\",\"endtime\":\"1456269758749\",\"id\":\"10858650\",\"starttime\":\"1456269737502\",\"status\":\"ERROR\"},\"truncatedItems\":[]}')",
     "output_type": "error",
     "traceback": [
      "\u001b[0;31m---------------------------------------------------------------------------\u001b[0m",
      "\u001b[0;31mTembooHTTPError\u001b[0m                           Traceback (most recent call last)",
      "\u001b[0;32m<ipython-input-4-224e66ea0517>\u001b[0m in \u001b[0;36m<module>\u001b[0;34m()\u001b[0m\n\u001b[1;32m     17\u001b[0m \u001b[0;34m\u001b[0m\u001b[0m\n\u001b[1;32m     18\u001b[0m \u001b[0;31m# Execute the Choreo\u001b[0m\u001b[0;34m\u001b[0m\u001b[0;34m\u001b[0m\u001b[0m\n\u001b[0;32m---> 19\u001b[0;31m \u001b[0mfinalizeOAuthResults\u001b[0m \u001b[0;34m=\u001b[0m \u001b[0mfinalizeOAuthChoreo\u001b[0m\u001b[0;34m.\u001b[0m\u001b[0mexecute_with_results\u001b[0m\u001b[0;34m(\u001b[0m\u001b[0mfinalizeOAuthInputs\u001b[0m\u001b[0;34m)\u001b[0m\u001b[0;34m\u001b[0m\u001b[0m\n\u001b[0m\u001b[1;32m     20\u001b[0m \u001b[0;34m\u001b[0m\u001b[0m\n\u001b[1;32m     21\u001b[0m \u001b[0;31m# Print the Choreo outputs\u001b[0m\u001b[0;34m\u001b[0m\u001b[0;34m\u001b[0m\u001b[0m\n",
      "\u001b[0;32m/Users/letsferrera/Documents/Masters/2016Spring/Transforming Data/Gits/MY_TransformingData2016/Homework/temboo/core/choreography.py\u001b[0m in \u001b[0;36mexecute_with_results\u001b[0;34m(self, choreo_inputs)\u001b[0m\n\u001b[1;32m     72\u001b[0m         \u001b[0;31m# Append JS client version string if present\u001b[0m\u001b[0;34m\u001b[0m\u001b[0;34m\u001b[0m\u001b[0m\n\u001b[1;32m     73\u001b[0m         \u001b[0mparams\u001b[0m \u001b[0;34m=\u001b[0m \u001b[0;34m{\u001b[0m\u001b[0;34m\"source_id\"\u001b[0m\u001b[0;34m:\u001b[0m \u001b[0mTembooSession\u001b[0m\u001b[0;34m.\u001b[0m\u001b[0mSOURCE_ID\u001b[0m \u001b[0;34m+\u001b[0m \u001b[0;34m(\u001b[0m\u001b[0;34m(\u001b[0m\u001b[0;34m'-'\u001b[0m \u001b[0;34m+\u001b[0m \u001b[0mself\u001b[0m\u001b[0;34m.\u001b[0m\u001b[0m_jsClientVersion\u001b[0m\u001b[0;34m)\u001b[0m \u001b[0;32mif\u001b[0m \u001b[0mself\u001b[0m\u001b[0;34m.\u001b[0m\u001b[0m_jsClientVersion\u001b[0m \u001b[0;32melse\u001b[0m \u001b[0;34m''\u001b[0m\u001b[0;34m)\u001b[0m\u001b[0;34m}\u001b[0m\u001b[0;34m\u001b[0m\u001b[0m\n\u001b[0;32m---> 74\u001b[0;31m         \u001b[0;32mreturn\u001b[0m \u001b[0mself\u001b[0m\u001b[0;34m.\u001b[0m\u001b[0m_make_result_set\u001b[0m\u001b[0;34m(\u001b[0m\u001b[0mself\u001b[0m\u001b[0;34m.\u001b[0m\u001b[0m_temboo_session\u001b[0m\u001b[0;34m.\u001b[0m\u001b[0mpost\u001b[0m\u001b[0;34m(\u001b[0m\u001b[0mself\u001b[0m\u001b[0;34m.\u001b[0m\u001b[0mget_session_path\u001b[0m\u001b[0;34m(\u001b[0m\u001b[0;34m)\u001b[0m\u001b[0;34m,\u001b[0m \u001b[0mbody\u001b[0m\u001b[0;34m,\u001b[0m \u001b[0mparams\u001b[0m\u001b[0;34m)\u001b[0m\u001b[0;34m,\u001b[0m \u001b[0mself\u001b[0m\u001b[0;34m.\u001b[0m\u001b[0m_temboo_path\u001b[0m\u001b[0;34m)\u001b[0m\u001b[0;34m\u001b[0m\u001b[0m\n\u001b[0m\u001b[1;32m     75\u001b[0m \u001b[0;34m\u001b[0m\u001b[0m\n\u001b[1;32m     76\u001b[0m     \u001b[0;32mdef\u001b[0m \u001b[0m_make_result_set\u001b[0m\u001b[0;34m(\u001b[0m\u001b[0mself\u001b[0m\u001b[0;34m,\u001b[0m \u001b[0mresult\u001b[0m\u001b[0;34m,\u001b[0m \u001b[0mpath\u001b[0m\u001b[0;34m)\u001b[0m\u001b[0;34m:\u001b[0m\u001b[0;34m\u001b[0m\u001b[0m\n",
      "\u001b[0;32m/Users/letsferrera/Documents/Masters/2016Spring/Transforming Data/Gits/MY_TransformingData2016/Homework/temboo/core/session.py\u001b[0m in \u001b[0;36mpost\u001b[0;34m(self, path, body, parameters)\u001b[0m\n\u001b[1;32m    183\u001b[0m \u001b[0;34m\u001b[0m\u001b[0m\n\u001b[1;32m    184\u001b[0m         \"\"\"\n\u001b[0;32m--> 185\u001b[0;31m         \u001b[0;32mreturn\u001b[0m \u001b[0mself\u001b[0m\u001b[0;34m.\u001b[0m\u001b[0m_do_request\u001b[0m\u001b[0;34m(\u001b[0m\u001b[0;34m'POST'\u001b[0m\u001b[0;34m,\u001b[0m \u001b[0mpath\u001b[0m\u001b[0;34m,\u001b[0m \u001b[0mbody\u001b[0m\u001b[0;34m,\u001b[0m \u001b[0mparameters\u001b[0m\u001b[0;34m)\u001b[0m\u001b[0;34m\u001b[0m\u001b[0m\n\u001b[0m\u001b[1;32m    186\u001b[0m \u001b[0;34m\u001b[0m\u001b[0m\n\u001b[1;32m    187\u001b[0m \u001b[0;34m\u001b[0m\u001b[0m\n",
      "\u001b[0;32m/Users/letsferrera/Documents/Masters/2016Spring/Transforming Data/Gits/MY_TransformingData2016/Homework/temboo/core/session.py\u001b[0m in \u001b[0;36m_do_request\u001b[0;34m(self, http_method, path, body, parameters)\u001b[0m\n\u001b[1;32m    140\u001b[0m             \u001b[0;31m#Any response < 200 or >= 300 means an error.\u001b[0m\u001b[0;34m\u001b[0m\u001b[0;34m\u001b[0m\u001b[0m\n\u001b[1;32m    141\u001b[0m             \u001b[0mmsg\u001b[0m \u001b[0;34m=\u001b[0m \u001b[0;34m'Bad HTTP response code. ({0})'\u001b[0m\u001b[0;34m.\u001b[0m\u001b[0mformat\u001b[0m\u001b[0;34m(\u001b[0m\u001b[0mresponse\u001b[0m\u001b[0;34m.\u001b[0m\u001b[0mstatus\u001b[0m\u001b[0;34m)\u001b[0m\u001b[0;34m\u001b[0m\u001b[0m\n\u001b[0;32m--> 142\u001b[0;31m             \u001b[0;32mraise\u001b[0m \u001b[0mTembooHTTPError\u001b[0m\u001b[0;34m(\u001b[0m\u001b[0mmsg\u001b[0m\u001b[0;34m,\u001b[0m \u001b[0mresponse\u001b[0m\u001b[0;34m.\u001b[0m\u001b[0mstatus\u001b[0m\u001b[0;34m,\u001b[0m \u001b[0mresponse\u001b[0m\u001b[0;34m.\u001b[0m\u001b[0mreason\u001b[0m\u001b[0;34m,\u001b[0m \u001b[0mbody\u001b[0m\u001b[0;34m)\u001b[0m\u001b[0;34m\u001b[0m\u001b[0m\n\u001b[0m\u001b[1;32m    143\u001b[0m \u001b[0;34m\u001b[0m\u001b[0m\n\u001b[1;32m    144\u001b[0m         \u001b[0;32mfinally\u001b[0m\u001b[0;34m:\u001b[0m\u001b[0;34m\u001b[0m\u001b[0m\n",
      "\u001b[0;31mTembooHTTPError\u001b[0m: ('Bad HTTP response code. (500)', 500, 'Server Error', '{\"output\":{\"RefreshToken\":\"\",\"AccessToken\":\"\",\"Expires\":\"\",\"ErrorMessage\":\"\"},\"execution\":{\"lasterror\":\"A Step Error has occurred: \\\\\"The Choreo was not able to retrieve the authorization callback data within the specified timeout. Verify that the user has clicked \\\\\"allow\\\\\" at the authorization URL returned by the InitializeOAuth Choreo.\\\\\".  The error occurred in the Stop (Callback error) step.\",\"errortime\":\"1456269758732\",\"endtime\":\"1456269758749\",\"id\":\"10858650\",\"starttime\":\"1456269737502\",\"status\":\"ERROR\"},\"truncatedItems\":[]}')"
     ]
    }
   ],
   "source": [
    "from temboo.Library.Uber.OAuth import FinalizeOAuth\n",
    "from temboo.core.session import TembooSession\n",
    "\n",
    "# Create a session with your Temboo account details\n",
    "session = TembooSession(\"letsferrera\", \"myFirstApp\", \"olOI2Xz358RVcIqnlZVApS9YMbh6SVpz\")\n",
    "\n",
    "# Instantiate the Choreo\n",
    "finalizeOAuthChoreo = FinalizeOAuth(session)\n",
    "\n",
    "# Get an InputSet object for the Choreo\n",
    "finalizeOAuthInputs = finalizeOAuthChoreo.new_input_set()\n",
    "\n",
    "# Set the Choreo inputs\n",
    "finalizeOAuthInputs.set_ClientSecret(\"FKjYDocMHiaZRpoa34vtVkfajbOYMO_A32OVcEvH\")\n",
    "finalizeOAuthInputs.set_CallbackID(\"letsferrera/4570c478-4393-41b9-9030-77dac90ce741\")\n",
    "finalizeOAuthInputs.set_ClientID(\"PYG-WnQjnjk2tnspTD7kyqLq7gbFJjOF\")\n",
    "\n",
    "# Execute the Choreo\n",
    "finalizeOAuthResults = finalizeOAuthChoreo.execute_with_results(finalizeOAuthInputs)\n",
    "\n",
    "# Print the Choreo outputs\n",
    "print(\"AccessToken: \" + finalizeOAuthResults.get_AccessToken())\n",
    "print(\"ErrorMessage: \" + finalizeOAuthResults.get_ErrorMessage())\n",
    "print(\"Expires: \" + finalizeOAuthResults.get_Expires())\n",
    "print(\"RefreshToken: \" + finalizeOAuthResults.get_RefreshToken())"
   ]
  },
  {
   "cell_type": "code",
   "execution_count": null,
   "metadata": {
    "collapsed": true
   },
   "outputs": [],
   "source": []
  }
 ],
 "metadata": {
  "kernelspec": {
   "display_name": "Python 3",
   "language": "python",
   "name": "python3"
  },
  "language_info": {
   "codemirror_mode": {
    "name": "ipython",
    "version": 3
   },
   "file_extension": ".py",
   "mimetype": "text/x-python",
   "name": "python",
   "nbconvert_exporter": "python",
   "pygments_lexer": "ipython3",
   "version": "3.5.1"
  }
 },
 "nbformat": 4,
 "nbformat_minor": 0
}
